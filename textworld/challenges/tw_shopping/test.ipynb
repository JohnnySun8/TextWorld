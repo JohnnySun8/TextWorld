{
 "cells": [
  {
   "cell_type": "code",
   "execution_count": null,
   "metadata": {},
   "outputs": [],
   "source": [
    "!pip "
   ]
  },
  {
   "cell_type": "code",
   "execution_count": 15,
   "metadata": {},
   "outputs": [
    {
     "name": "stdout",
     "output_type": "stream",
     "text": [
      "Traceback (most recent call last):\r\n",
      "  File \"cooking.py\", line 1321, in <module>\r\n",
      "    register(name=\"tw-cooking\",\r\n",
      "  File \"/usr/local/lib/python3.8/site-packages/textworld/challenges/registration.py\", line 35, in register\r\n",
      "    raise ValueError(\"Challenge '{}' already registered.\".format(name))\r\n",
      "ValueError: Challenge 'tw-cooking' already registered.\r\n"
     ]
    }
   ],
   "source": [
    "!python cooking.py"
   ]
  },
  {
   "cell_type": "code",
   "execution_count": 16,
   "metadata": {},
   "outputs": [],
   "source": [
    "!python shopping.py"
   ]
  },
  {
   "cell_type": "code",
   "execution_count": 17,
   "metadata": {},
   "outputs": [
    {
     "name": "stdout",
     "output_type": "stream",
     "text": [
      "usage: tw-make [-h] [--third-party PATH]\r\n",
      "               {custom,tw-coin_collector,tw-treasure_hunter,tw-simple,tw-cooking}\r\n",
      "               ...\r\n",
      "\r\n",
      "optional arguments:\r\n",
      "  -h, --help            show this help message and exit\r\n",
      "  --third-party PATH    Load an external python file. Useful to register\r\n",
      "                        custom challenges on-the-fly.\r\n",
      "\r\n",
      "Types of game to create:\r\n",
      "  {custom,tw-coin_collector,tw-treasure_hunter,tw-simple,tw-cooking}\r\n",
      "    custom              Make a custom game.\r\n",
      "    tw-coin_collector   Generate a Coin Collector game\r\n",
      "    tw-treasure_hunter  Generate a Treasure Hunter game\r\n",
      "    tw-simple           Generate simple challenge game\r\n",
      "    tw-cooking          Generate cooking games similar to those used for the\r\n",
      "                        First TextWorld Problem (FTWP) competition\r\n",
      "                        (https://aka.ms/ftwp).\r\n"
     ]
    }
   ],
   "source": [
    "!tw-make --help"
   ]
  },
  {
   "cell_type": "code",
   "execution_count": 23,
   "metadata": {},
   "outputs": [
    {
     "name": "stdout",
     "output_type": "stream",
     "text": [
      "usage: tw-make tw-cooking [-h] [--recipe INT] [--take INT] [--go {1,6,9,12}]\r\n",
      "                          [--open] [--cook] [--cut] [--drop]\r\n",
      "                          [--recipe-seed INT] [--split {train,valid,test}]\r\n",
      "                          [--output PATH] [--seed SEED] [--format {ulx,z8}]\r\n",
      "                          [--overview] [--save-overview] [-f] [--silent | -v]\r\n",
      "\r\n",
      "optional arguments:\r\n",
      "  -h, --help            show this help message and exit\r\n",
      "\r\n",
      "The Cooking Game settings:\r\n",
      "  --recipe INT          Number of ingredients in the recipe. Default: 1\r\n",
      "  --take INT            Number of ingredients to find. It must be less or\r\n",
      "                        equal to the value of `--recipe`. Default: 0\r\n",
      "  --go {1,6,9,12}       Number of locations in the game (1, 6, 9, or 12).\r\n",
      "                        Default: 1\r\n",
      "  --open                Whether containers/doors need to be opened.\r\n",
      "  --cook                Whether some ingredients need to be cooked.\r\n",
      "  --cut                 Whether some ingredients need to be cut.\r\n",
      "  --drop                Whether the player's inventory has limited capacity.\r\n",
      "  --recipe-seed INT     Random seed used for generating the recipe. Default: 0\r\n",
      "  --split {train,valid,test}\r\n",
      "                        Specify the game distribution to use. Food items (adj-\r\n",
      "                        noun pairs) are split in three subsets. Also, the way\r\n",
      "                        the training food items can be prepared is further\r\n",
      "                        divided in three subsets. * train: training food and\r\n",
      "                        their corresponding training preparations * valid:\r\n",
      "                        valid food + training food but with unseen valid\r\n",
      "                        preparations * test: test food + training food but\r\n",
      "                        with unseen test preparations Default: game is drawn\r\n",
      "                        from the joint distribution over train, valid, and\r\n",
      "                        test.\r\n",
      "\r\n",
      "General settings:\r\n",
      "  --output PATH         Path where to save the generated game. If it points to\r\n",
      "                        a folder, the game's UUID will be used as the\r\n",
      "                        filename.\r\n",
      "  --seed SEED\r\n",
      "  --format {ulx,z8}     Which format to use when compiling the game. Default:\r\n",
      "                        z8\r\n",
      "  --overview            Display an overview of the generated game.\r\n",
      "  --save-overview       Save the overview image of the generated game\r\n",
      "                        alongside the game as a PNG file.\r\n",
      "  -f, --force\r\n",
      "  --silent\r\n",
      "  -v, --verbose\r\n"
     ]
    }
   ],
   "source": [
    "!tw-make tw-cooking --help"
   ]
  },
  {
   "cell_type": "code",
   "execution_count": 22,
   "metadata": {},
   "outputs": [
    {
     "name": "stdout",
     "output_type": "stream",
     "text": [
      "usage: tw-make [-h] [--third-party PATH]\r\n",
      "               {custom,tw-coin_collector,tw-treasure_hunter,tw-simple,tw-cooking}\r\n",
      "               ...\r\n",
      "tw-make: error: argument subcommand: invalid choice: 'tw-shopping' (choose from 'custom', 'tw-coin_collector', 'tw-treasure_hunter', 'tw-simple', 'tw-cooking')\r\n"
     ]
    }
   ],
   "source": [
    "!tw-make tw-shopping --help"
   ]
  },
  {
   "cell_type": "code",
   "execution_count": null,
   "metadata": {},
   "outputs": [],
   "source": []
  }
 ],
 "metadata": {
  "kernelspec": {
   "display_name": "Python 3",
   "language": "python",
   "name": "python3"
  },
  "language_info": {
   "codemirror_mode": {
    "name": "ipython",
    "version": 3
   },
   "file_extension": ".py",
   "mimetype": "text/x-python",
   "name": "python",
   "nbconvert_exporter": "python",
   "pygments_lexer": "ipython3",
   "version": "3.8.2"
  }
 },
 "nbformat": 4,
 "nbformat_minor": 4
}
